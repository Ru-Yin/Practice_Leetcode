{
  "nbformat": 4,
  "nbformat_minor": 0,
  "metadata": {
    "colab": {
      "provenance": [],
      "collapsed_sections": [
        "WkJSElWykkzr",
        "4uC3bn-xlTsb",
        "8t-TQrCZpR-U",
        "cYMtQsPiqAwM",
        "tvxu4RrBqrFI",
        "JMFuH7uHs6bU"
      ],
      "include_colab_link": true
    },
    "kernelspec": {
      "name": "python3",
      "display_name": "Python 3"
    },
    "language_info": {
      "name": "python"
    }
  },
  "cells": [
    {
      "cell_type": "markdown",
      "metadata": {
        "id": "view-in-github",
        "colab_type": "text"
      },
      "source": [
        "<a href=\"https://colab.research.google.com/github/Ru-Yin/Practice_Leetcode/blob/main/TIGP_OOP.ipynb\" target=\"_parent\"><img src=\"https://colab.research.google.com/assets/colab-badge.svg\" alt=\"Open In Colab\"/></a>"
      ]
    },
    {
      "cell_type": "markdown",
      "source": [
        "# The basic Class"
      ],
      "metadata": {
        "id": "WkJSElWykkzr"
      }
    },
    {
      "cell_type": "code",
      "source": [
        "class Character:\n",
        "  def __init__(self, name):\n",
        "    self.name = name\n",
        "C1 = Character(name=\"Mario\")\n",
        "C2 = Character(name=\"Luigi\")\n",
        "\n",
        "print(C1.name)\n",
        "print(C2.name)\n",
        "\n",
        "class Character:\n",
        "  def __init__(self, name, height, weight):\n",
        "    self.name = name\n",
        "    self.height = height\n",
        "    self.weight = weight\n",
        "C1 = Character(\"Mario\", 170, 60)\n",
        "C2 = Character(\"Luigi\", 160, 50)\n",
        "\n",
        "print(C1.name, C1.height, C1.weight)\n",
        "print(C2.name)"
      ],
      "metadata": {
        "id": "W_5xCZvclB0z",
        "outputId": "7dfad997-766d-4aa1-ee66-d4bea49b61eb",
        "colab": {
          "base_uri": "https://localhost:8080/"
        }
      },
      "execution_count": 6,
      "outputs": [
        {
          "output_type": "stream",
          "name": "stdout",
          "text": [
            "Mario\n",
            "Luigi\n",
            "Mario 170 60\n",
            "Luigi\n"
          ]
        }
      ]
    },
    {
      "cell_type": "code",
      "execution_count": 7,
      "metadata": {
        "id": "UoE19MSVUm0g"
      },
      "outputs": [],
      "source": [
        "import random\n",
        "\n",
        "class Chara2D:\n",
        "    def __init__(self, name, dice_blocks):\n",
        "        self._x, self._y = 0, 0\n",
        "        self._name = name\n",
        "        self._dice_blocks = [1, 2, 3, 4, 5, 6]\n",
        "        self._stars = 0\n",
        "\n",
        "    def name(self):\n",
        "        return self._name\n",
        "\n",
        "    def throw(self):\n",
        "        return random.sample(self._dice_blocks, 1)[0]\n",
        "\n",
        "    def move(self, step):\n",
        "        self._x += step\n",
        "\n",
        "    def get_position(self):\n",
        "        return (self._x, self._y)\n",
        "\n",
        "    def set_random_position(self):\n",
        "        pass"
      ]
    },
    {
      "cell_type": "markdown",
      "source": [
        "# 0. Create Objects"
      ],
      "metadata": {
        "id": "4uC3bn-xlTsb"
      }
    },
    {
      "cell_type": "code",
      "source": [
        "chara_1 = Chara2D(\"mario\", [1, 3, 3, 3, 5, 6])\n",
        "chara_2 = Chara2D(\"Luigi\", [1, 1, 1, 5, 6, 7])\n",
        "chara_3 = Chara2D(\"Yoshi\", [0, 1, 3, 5, 5, 7])"
      ],
      "metadata": {
        "id": "7OAlzuF7lSna"
      },
      "execution_count": 17,
      "outputs": []
    },
    {
      "cell_type": "code",
      "source": [
        "print(chara_1.name, chara_1.name(), chara_1.throw())\n",
        "print(chara_2.name(), chara_2.throw())\n",
        "print(chara_3.name(), chara_3.throw())\n",
        "print(chara_3.name(), chara_3.get_position(), chara_3.move(1), chara_3.get_position())\n",
        "print(chara_3.name(), chara_3.set_random_position())"
      ],
      "metadata": {
        "colab": {
          "base_uri": "https://localhost:8080/"
        },
        "id": "JJt3sG8Emd1I",
        "outputId": "5803b403-9d0f-4655-d2f4-d079df577fa2"
      },
      "execution_count": 18,
      "outputs": [
        {
          "output_type": "stream",
          "name": "stdout",
          "text": [
            "<bound method Chara2D.name of <__main__.Chara2D object at 0x7a0779925090>> mario 6\n",
            "Luigi 4\n",
            "Yoshi 3\n",
            "Yoshi (0, 0) None (1, 0)\n",
            "Yoshi None\n"
          ]
        }
      ]
    },
    {
      "cell_type": "markdown",
      "source": [
        "# 1. Abstraction"
      ],
      "metadata": {
        "id": "8t-TQrCZpR-U"
      }
    },
    {
      "cell_type": "markdown",
      "source": [
        "##**Play Ground**.\n",
        "- Throw the dice 5 times for each characters\n",
        "- move them with each obtained value\n",
        "- disoplay the final position"
      ],
      "metadata": {
        "id": "ABCgSjWhop14"
      }
    },
    {
      "cell_type": "code",
      "source": [
        "# your code here"
      ],
      "metadata": {
        "id": "-iULtNECmu4M"
      },
      "execution_count": null,
      "outputs": []
    },
    {
      "cell_type": "markdown",
      "source": [
        "# 2. Encapsulation"
      ],
      "metadata": {
        "id": "cYMtQsPiqAwM"
      }
    },
    {
      "cell_type": "markdown",
      "source": [
        "##**Play Ground**.\n",
        "- Reset a character's position by **set_random_position**"
      ],
      "metadata": {
        "id": "6IizKnU5qdYe"
      }
    },
    {
      "cell_type": "code",
      "source": [
        "# your code here"
      ],
      "metadata": {
        "id": "DmCuMhnOo-Ho"
      },
      "execution_count": null,
      "outputs": []
    },
    {
      "cell_type": "markdown",
      "source": [
        "# 3. Inheritance"
      ],
      "metadata": {
        "id": "tvxu4RrBqrFI"
      }
    },
    {
      "cell_type": "code",
      "source": [
        "class Chara3D(Chara2D):\n",
        "    def __init__(self, name, dice_blocks):\n",
        "        super().__init__(name, dice_blocks)\n",
        "        self._z = 0\n",
        "\n",
        "    def get_position(self):\n",
        "        return (self._x, self._y, self._z)"
      ],
      "metadata": {
        "id": "-D0dfDh7q0BA"
      },
      "execution_count": null,
      "outputs": []
    },
    {
      "cell_type": "code",
      "source": [
        "chara_4 = Chara3D(\"peach\", [0, 2, 4, 4, 4, 6])\n",
        "chara_4.get_position()"
      ],
      "metadata": {
        "id": "5zYwCb4Ur4t3"
      },
      "execution_count": null,
      "outputs": []
    },
    {
      "cell_type": "markdown",
      "source": [
        "##**Play Ground**.\n",
        "- Reset a character's position by **set_random_position**\n",
        "- The values range from -10 to 10"
      ],
      "metadata": {
        "id": "WnzyHPJSqv_h"
      }
    },
    {
      "cell_type": "code",
      "source": [
        "# tests at here"
      ],
      "metadata": {
        "id": "DZdw-HLlqo3o"
      },
      "execution_count": null,
      "outputs": []
    },
    {
      "cell_type": "markdown",
      "source": [
        "# 4. Polymorphism"
      ],
      "metadata": {
        "id": "JMFuH7uHs6bU"
      }
    },
    {
      "cell_type": "code",
      "source": [
        "class Chara3D(Chara2D):\n",
        "    def __init__(self, name, dice_blocks):\n",
        "        super().__init__(name, dice_blocks)\n",
        "        self._z = 0\n",
        "\n",
        "    def get_position(self):\n",
        "        return (self._x, self._y, self._z)\n",
        "\n",
        "    def throw(self, scaler=1, offset=0, minimun=0):\n",
        "        return 0"
      ],
      "metadata": {
        "id": "8FWzV7CQtDlM"
      },
      "execution_count": null,
      "outputs": []
    },
    {
      "cell_type": "markdown",
      "source": [
        "##**Play Ground**.\n",
        "- Try to implement the usage of prarameters in the *throw* fucntion.\n",
        "    - the value can be multiplied by a scaler\n",
        "    - the value will plus an offset value\n",
        "    - the value has a minimun value"
      ],
      "metadata": {
        "id": "W1kY8Mv1tlEh"
      }
    },
    {
      "cell_type": "code",
      "source": [
        "# your code here"
      ],
      "metadata": {
        "id": "3I-mI-l3tAw8"
      },
      "execution_count": null,
      "outputs": []
    },
    {
      "cell_type": "markdown",
      "source": [
        "# Homework"
      ],
      "metadata": {
        "id": "IZUib9F6JmzB"
      }
    },
    {
      "cell_type": "markdown",
      "source": [
        "### Homework Assignment: Enhancing the `Chara2D` and `Chara3D` Classes\n",
        "\n",
        "---\n",
        "\n",
        "#### **Basic Class Structure and Initialization (20 points)**\n",
        "1. **(5 points)** Correct the `Chara2D` class by initializing attributes like `self._x`, `self._y`, and `self._dice_blocks` instead of `self.x`, `self.y`, and `self.dice_blocks` to follow encapsulation principles.\n",
        "2. **(5 points)** Refactor the `name` method to be a property (`@property` decorator) for cleaner attribute access.\n",
        "3. **(10 points)** Modify the `throw` method in both classes to use `random.choice()` for a single random dice block instead of `random.sample()`.\n",
        "\n",
        "---\n",
        "\n",
        "#### **Functionality Improvements (30 points)**\n",
        "4. **(10 points)** Implement the `set_random_position()` method in `Chara2D` to set `x` and `y` to random values between 0 and 100.\n",
        "5. **(10 points)** Modify the `move` method to also accept y-axis steps in `Chara2D`, enabling diagonal movements.\n",
        "6. **(10 points)** Update the `Chara3D` class’s `move` method to allow changes along the z-axis as well. Ensure it overrides `Chara2D.move`.\n",
        "\n",
        "---\n",
        "\n",
        "#### **Advanced OOP Concepts (30 points)**\n",
        "7. **(15 points)** Define `throw` in `Chara3D` to allow scaling, offsetting, and setting a minimum value on the dice roll, as suggested by the parameters `scaler`, `offset`, and `minimum`. Have the result always be at least `minimum` if specified.\n",
        "8. **(10 points)** Add a `__str__()` method for each class to print the character’s name and current position.\n",
        "9. **(5 points)** Add a method to both classes, `collect_star()`, which increments the character’s `stars` attribute by one each time it’s called.\n",
        "\n",
        "---\n",
        "\n",
        "#### **Testing and Inheritance (20 points)**\n",
        "10. **(10 points)** Create a subclass `Chara2DWithItems` that inherits from `Chara2D` and adds an `inventory` list attribute. Write methods to add and remove items from `inventory`.\n",
        "11. **(10 points)** Write a test script that creates instances of `Chara2D`, `Chara3D`, and `Chara2DWithItems`, testing all implemented methods to ensure correctness."
      ],
      "metadata": {
        "id": "sm7GtxS4Jo0Q"
      }
    },
    {
      "cell_type": "code",
      "source": [],
      "metadata": {
        "id": "UPun-r9mJrfL"
      },
      "execution_count": null,
      "outputs": []
    }
  ]
}