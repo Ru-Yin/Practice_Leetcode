{
  "nbformat": 4,
  "nbformat_minor": 0,
  "metadata": {
    "colab": {
      "provenance": [],
      "collapsed_sections": [
        "zO5fxE3BuzjT",
        "FUdWmUsjGeiS",
        "1mreQatUot4V",
        "HHazs0vf-z6B",
        "fYZvOU1EDZCE",
        "D-tKlbDcPR5L",
        "hTsoqjhiLyIG",
        "vW93GNaVTh-O"
      ],
      "include_colab_link": true
    },
    "kernelspec": {
      "name": "python3",
      "display_name": "Python 3"
    },
    "language_info": {
      "name": "python"
    }
  },
  "cells": [
    {
      "cell_type": "markdown",
      "metadata": {
        "id": "view-in-github",
        "colab_type": "text"
      },
      "source": [
        "<a href=\"https://colab.research.google.com/github/Ru-Yin/Practice_Leetcode/blob/main/RE.ipynb\" target=\"_parent\"><img src=\"https://colab.research.google.com/assets/colab-badge.svg\" alt=\"Open In Colab\"/></a>"
      ]
    },
    {
      "cell_type": "markdown",
      "source": [
        "# 1-1. Sort Alphabet By Frequency\n",
        "You are asked to design a function that can output the character of a string by the **appearing frequency** in **decreasing order**."
      ],
      "metadata": {
        "id": "zO5fxE3BuzjT"
      }
    },
    {
      "cell_type": "markdown",
      "source": [
        "* Example 1.\n",
        "```\n",
        "Input: \"Tree\"\n",
        "Output: \"eert\" # turn alphabet characters into lowercase\n",
        "```\n",
        "\n",
        "* Example 2.\n",
        "```\n",
        "Input: \"pika-pika\"\n",
        "Output: \"aaiikkpp\" # ignore non-alphabet character\n",
        "```"
      ],
      "metadata": {
        "id": "r_q7nJl0H3o9"
      }
    },
    {
      "cell_type": "code",
      "execution_count": null,
      "metadata": {
        "id": "uIpNGPs6uq1h"
      },
      "outputs": [],
      "source": [
        "def sort_alpha(sentence):\n",
        "    # your codes here\n",
        "    dic={}\n",
        "    concate = []\n",
        "    for i in sentence:\n",
        "      dic[i] = sentence.count(i)\n",
        "    sort_list = sorted(list(dic.values()))\n",
        "    for count in sort_list:\n",
        "      for i in dic.keys():\n",
        "        if dic[i] == count:\n",
        "          concate.append(i)\n",
        "    concate = ''.join(concate)\n",
        "\n",
        "    return concate"
      ]
    },
    {
      "cell_type": "markdown",
      "source": [
        "## Test Level 1"
      ],
      "metadata": {
        "id": "cUlvT4NJtwEf"
      }
    },
    {
      "cell_type": "code",
      "source": [
        "assert sort_alpha(\"Tree\") in [\"eert\", \"eetr\"]"
      ],
      "metadata": {
        "id": "stLdbtUxtvkU"
      },
      "execution_count": null,
      "outputs": []
    },
    {
      "cell_type": "markdown",
      "source": [
        "## Test Level 2"
      ],
      "metadata": {
        "id": "ESOiJdYqt4pD"
      }
    },
    {
      "cell_type": "code",
      "source": [
        "assert sort_alpha(\"Nico Nico Nii!\") in [\"iiiinnnccoo\", \"iiiinnnoocc\"]"
      ],
      "metadata": {
        "id": "Qe-EVpSUt4Bp"
      },
      "execution_count": null,
      "outputs": []
    },
    {
      "cell_type": "markdown",
      "source": [
        "## Test Level 3"
      ],
      "metadata": {
        "id": "fV1vwHWBt1Qc"
      }
    },
    {
      "cell_type": "code",
      "source": [
        "assert sort_alpha(\"Tree\") == \"eert\"\n",
        "assert sort_alpha(\"Nico Nico Nii!\") == \"iiiinnnccoo\"\n",
        "assert sort_alpha(\"pika-pika\") == \"aaiikkpp\""
      ],
      "metadata": {
        "id": "KSj7E9oqok6f"
      },
      "execution_count": null,
      "outputs": []
    },
    {
      "cell_type": "markdown",
      "source": [
        "# 1-2. Valid TW Phone Number\n",
        "Here are some basic rules for verifying whether a number is a valid TW phone number in a service:"
      ],
      "metadata": {
        "id": "FUdWmUsjGeiS"
      }
    },
    {
      "cell_type": "markdown",
      "source": [
        "- starts with 09\n",
        "- with a total of 10 numbers\n",
        "- saved as the form of xxxx-xxx-xxx, where x are all digits\n",
        "\n",
        "You are asked to implement a function for this verification.\n",
        "\n",
        "* Example 1.\n",
        "```\n",
        "Input: 0911222333\n",
        "Output: \"Invalid\" # no dash provided\n",
        "```\n",
        "\n",
        "* Example 2.\n",
        "```\n",
        "Input: 0911-222-3334\n",
        "Output: \"Invalid\" # there are 11 digits\n",
        "```\n",
        "\n",
        "* Example 3.\n",
        "```\n",
        "Input: 0211-222-333\n",
        "Output: \"Invalid\" # not starts with 09\n",
        "```"
      ],
      "metadata": {
        "id": "xyPQ6ICGH7GR"
      }
    },
    {
      "cell_type": "code",
      "source": [
        "def verify_phone_number(number):\n",
        "    # your codes here\n",
        "    return \"Valid\""
      ],
      "metadata": {
        "id": "j4PU-ryNId3c"
      },
      "execution_count": null,
      "outputs": []
    },
    {
      "cell_type": "markdown",
      "source": [
        "## Test Cases"
      ],
      "metadata": {
        "id": "0o02CSybImn5"
      }
    },
    {
      "cell_type": "code",
      "source": [
        "assert verify_phone_number(\"0911-222-333\") == \"Valid\"\n",
        "assert verify_phone_number(\"0911-222-3334\") == \"Invalid\"\n",
        "assert verify_phone_number(\"0911222333\") == \"Invalid\"\n",
        "assert verify_phone_number(\"0111-222-333\") == \"Invalid\""
      ],
      "metadata": {
        "id": "CjfupT3fIqqb"
      },
      "execution_count": null,
      "outputs": []
    },
    {
      "cell_type": "markdown",
      "source": [
        "# 2.1 Review the Regex"
      ],
      "metadata": {
        "id": "1mreQatUot4V"
      }
    },
    {
      "cell_type": "code",
      "source": [
        "import re"
      ],
      "metadata": {
        "id": "OPh_UlpgzRi4"
      },
      "execution_count": null,
      "outputs": []
    },
    {
      "cell_type": "code",
      "source": [
        "re.search(\"github\", \"https://github.com/chihming\")"
      ],
      "metadata": {
        "id": "xZHv9InxzWI-"
      },
      "execution_count": null,
      "outputs": []
    },
    {
      "cell_type": "code",
      "source": [
        "re.search(\"linkedin\", \"https://github.com/chihming\")"
      ],
      "metadata": {
        "id": "sqBX_WwQzYlg"
      },
      "execution_count": null,
      "outputs": []
    },
    {
      "cell_type": "code",
      "source": [
        "re.search(\"github\", \"https://github.com/chihming\")"
      ],
      "metadata": {
        "id": "S_oVhS9Az6io"
      },
      "execution_count": null,
      "outputs": []
    },
    {
      "cell_type": "code",
      "source": [
        "re.match(\"github\", \"https://github.com/chihming\")"
      ],
      "metadata": {
        "id": "UIDIt0zO3QK7"
      },
      "execution_count": null,
      "outputs": []
    },
    {
      "cell_type": "code",
      "source": [
        "re.match(\"[github]\", \"github\")"
      ],
      "metadata": {
        "id": "Db5fl5Fx524a"
      },
      "execution_count": null,
      "outputs": []
    },
    {
      "cell_type": "code",
      "source": [
        "re.match(\"[github]\", \"abc\")"
      ],
      "metadata": {
        "id": "BbcLrscz7MQB"
      },
      "execution_count": null,
      "outputs": []
    },
    {
      "cell_type": "code",
      "source": [
        "re.match(\"[github]\", \"google\")"
      ],
      "metadata": {
        "id": "rUwgCPcn8EHe"
      },
      "execution_count": null,
      "outputs": []
    },
    {
      "cell_type": "code",
      "source": [
        "re.match(\"[hubgit]\", \"google\")"
      ],
      "metadata": {
        "id": "18_TwbFX8F70"
      },
      "execution_count": null,
      "outputs": []
    },
    {
      "cell_type": "code",
      "source": [
        "re.match(\"[hubgit]\", \"dogs\")"
      ],
      "metadata": {
        "id": "kkBJNH888JFm"
      },
      "execution_count": null,
      "outputs": []
    },
    {
      "cell_type": "code",
      "source": [
        "re.search(\"[hubgit]\", \"dogs\")"
      ],
      "metadata": {
        "id": "o14nhvB28M2b"
      },
      "execution_count": null,
      "outputs": []
    },
    {
      "cell_type": "code",
      "source": [
        "re.search(\"[0123]\", \"54321\")"
      ],
      "metadata": {
        "id": "wmZebkiR8QTm"
      },
      "execution_count": null,
      "outputs": []
    },
    {
      "cell_type": "code",
      "source": [
        "re.search(\"[0-9]\", \"54321\")"
      ],
      "metadata": {
        "id": "nFONxAgm9C7F"
      },
      "execution_count": null,
      "outputs": []
    },
    {
      "cell_type": "code",
      "source": [
        "re.search(\"123[a-z]\", \"abc123xyz\")"
      ],
      "metadata": {
        "id": "oC9YFVwi9YHe"
      },
      "execution_count": null,
      "outputs": []
    },
    {
      "cell_type": "code",
      "source": [
        "re.search(\"123[a-z]ok\", \"abc123xyzok\")"
      ],
      "metadata": {
        "id": "A-v-Tu7c-e6h"
      },
      "execution_count": null,
      "outputs": []
    },
    {
      "cell_type": "code",
      "source": [
        "re.search(\"123[a-z]ok\", \"abc123ook\")"
      ],
      "metadata": {
        "id": "Batt2aKP-qm0"
      },
      "execution_count": null,
      "outputs": []
    },
    {
      "cell_type": "code",
      "source": [
        "re.search(\"[1-9][a-z][ok]\", \"01aok\")"
      ],
      "metadata": {
        "id": "3ev-520G_KU5"
      },
      "execution_count": null,
      "outputs": []
    },
    {
      "cell_type": "code",
      "source": [
        "re.search(\"[1-9][a-z]ok\", \"01aok\")"
      ],
      "metadata": {
        "id": "4FVZNEFp_LBN"
      },
      "execution_count": null,
      "outputs": []
    },
    {
      "cell_type": "code",
      "source": [
        "re.search(\"[1-9a-z]ok\", \"01aok\")"
      ],
      "metadata": {
        "id": "1F8D1xed_c5X"
      },
      "execution_count": null,
      "outputs": []
    },
    {
      "cell_type": "markdown",
      "source": [
        "# 2.2 Review the Regex\n",
        "\n"
      ],
      "metadata": {
        "id": "HHazs0vf-z6B"
      }
    },
    {
      "cell_type": "code",
      "source": [
        "re.search(\"good\", \"goood\")"
      ],
      "metadata": {
        "id": "kJXSVKIW-w3V"
      },
      "execution_count": null,
      "outputs": []
    },
    {
      "cell_type": "code",
      "source": [
        "re.search(\"g\\w\\w\\wd\", \"goood\")"
      ],
      "metadata": {
        "id": "AETGPdBiB1_m"
      },
      "execution_count": null,
      "outputs": []
    },
    {
      "cell_type": "code",
      "source": [
        "re.search(\"g[\\w\\w\\w]d\", \"goood\")"
      ],
      "metadata": {
        "id": "642YJhiCC7mk"
      },
      "execution_count": null,
      "outputs": []
    },
    {
      "cell_type": "code",
      "source": [
        "re.search(\"g[\\w][\\w][\\w]d\", \"goood\")"
      ],
      "metadata": {
        "id": "xiksocc7C_Ru"
      },
      "execution_count": null,
      "outputs": []
    },
    {
      "cell_type": "code",
      "source": [
        "re.search(\"\\w\\w\\w\\w\\w\", \"goood\")"
      ],
      "metadata": {
        "id": "tTUKCS33B--r"
      },
      "execution_count": null,
      "outputs": []
    },
    {
      "cell_type": "code",
      "source": [
        "re.search(\"\\w\\w\\w\\w\\w\", \"g000d\")"
      ],
      "metadata": {
        "id": "6YYLVyD_CDiP"
      },
      "execution_count": null,
      "outputs": []
    },
    {
      "cell_type": "code",
      "source": [
        "re.search(\"\\w\\w\\w\\w\\w morning\", \"goood morning\")"
      ],
      "metadata": {
        "id": "a0YKX76ACGDh"
      },
      "execution_count": null,
      "outputs": []
    },
    {
      "cell_type": "code",
      "source": [
        "re.search(\"good[^\\w]\", \"gooda\")"
      ],
      "metadata": {
        "id": "JhTHqGzzCLzZ"
      },
      "execution_count": null,
      "outputs": []
    },
    {
      "cell_type": "code",
      "source": [
        "re.search(\"good[^\\w]\", \"good!\")"
      ],
      "metadata": {
        "id": "FlWpkJxQCjfl"
      },
      "execution_count": null,
      "outputs": []
    },
    {
      "cell_type": "code",
      "source": [
        "re.search(\"good[\\W]\", \"good!!!!\")"
      ],
      "metadata": {
        "id": "_x9A5G-4Cpnq"
      },
      "execution_count": null,
      "outputs": []
    },
    {
      "cell_type": "code",
      "source": [
        "re.search(\"good[\\W]\", \"good~\")"
      ],
      "metadata": {
        "id": "h4gAPhBXCqtL"
      },
      "execution_count": null,
      "outputs": []
    },
    {
      "cell_type": "markdown",
      "source": [
        "# 2.3 Review the Regrex"
      ],
      "metadata": {
        "id": "fYZvOU1EDZCE"
      }
    },
    {
      "cell_type": "code",
      "source": [
        "re.search(\"g[o]*d\", \"gooooood\")"
      ],
      "metadata": {
        "id": "sdE2Y9V7Ddb_"
      },
      "execution_count": null,
      "outputs": []
    },
    {
      "cell_type": "code",
      "source": [
        "re.search(\"g[o]+d\", \"gooooood\")"
      ],
      "metadata": {
        "id": "IGrsVd3qFEWN"
      },
      "execution_count": null,
      "outputs": []
    },
    {
      "cell_type": "code",
      "source": [
        "re.search(\"g[o]?d\", \"gooooood\")"
      ],
      "metadata": {
        "id": "2U3Id3VEFG7I"
      },
      "execution_count": null,
      "outputs": []
    },
    {
      "cell_type": "code",
      "source": [
        "re.search(\"g[\\w]+d\", \"gooooood\")"
      ],
      "metadata": {
        "id": "2sSNm1aMFH2_"
      },
      "execution_count": null,
      "outputs": []
    },
    {
      "cell_type": "code",
      "source": [
        "re.search(\"g[\\w]+\", \"gooooood\")"
      ],
      "metadata": {
        "id": "D6SgzOp0FNDf"
      },
      "execution_count": null,
      "outputs": []
    },
    {
      "cell_type": "code",
      "source": [
        "re.search(\"g[\\w]+\", \"great\")"
      ],
      "metadata": {
        "id": "bP8ITLqQFQUT"
      },
      "execution_count": null,
      "outputs": []
    },
    {
      "cell_type": "code",
      "source": [
        "re.search(\"g[\\w]+\", \"great\")"
      ],
      "metadata": {
        "id": "yl0k0-p2FZUN"
      },
      "execution_count": null,
      "outputs": []
    },
    {
      "cell_type": "code",
      "source": [
        "re.search(\"g[\\w]+\", \"this is great\")"
      ],
      "metadata": {
        "id": "yE-84klAKCRw"
      },
      "execution_count": null,
      "outputs": []
    },
    {
      "cell_type": "code",
      "source": [
        "re.search(\"^g[\\w]+\", \"this is great\")"
      ],
      "metadata": {
        "id": "nun5v5RSKKkF"
      },
      "execution_count": null,
      "outputs": []
    },
    {
      "cell_type": "code",
      "source": [
        "re.search(\"g[\\w]+$\", \"this is great\")"
      ],
      "metadata": {
        "id": "27E2EJvWKNyl"
      },
      "execution_count": null,
      "outputs": []
    },
    {
      "cell_type": "code",
      "source": [
        "re.search(\"g[\\w]+$\", \"this is great!\")"
      ],
      "metadata": {
        "id": "OXoo2VwgKPof"
      },
      "execution_count": null,
      "outputs": []
    },
    {
      "cell_type": "code",
      "source": [
        "re.search(\"g[\\w]+[\\W]?\", \"great\")"
      ],
      "metadata": {
        "id": "3UnX88Q7KRpI"
      },
      "execution_count": null,
      "outputs": []
    },
    {
      "cell_type": "code",
      "source": [
        "re.search(\"g[\\w]+[\\W]?\", \"great!!\")"
      ],
      "metadata": {
        "id": "TJjwWsnhKxDS"
      },
      "execution_count": null,
      "outputs": []
    },
    {
      "cell_type": "code",
      "source": [
        "re.search(\"g[\\w]+[\\W]+\", \"great\")"
      ],
      "metadata": {
        "id": "gTODX0eGK1xz"
      },
      "execution_count": null,
      "outputs": []
    },
    {
      "cell_type": "code",
      "source": [
        "re.search(\"g[\\w]+ [\\w]+\", \"great work\")"
      ],
      "metadata": {
        "id": "wq52DahmK9UJ"
      },
      "execution_count": null,
      "outputs": []
    },
    {
      "cell_type": "code",
      "source": [
        "re.search(\"g[\\w]+[\\s][\\w]+\", \"great work\")"
      ],
      "metadata": {
        "id": "V80G3AiRLGjr"
      },
      "execution_count": null,
      "outputs": []
    },
    {
      "cell_type": "code",
      "source": [
        "re.search(\"g[\\w]+[\\s][\\w]+\", \"goooood     job!\")"
      ],
      "metadata": {
        "id": "zhOYnaMqLRxT"
      },
      "execution_count": null,
      "outputs": []
    },
    {
      "cell_type": "code",
      "source": [
        "re.search(\"g[\\w]+[\\s]+[\\w]+\", \"goooood     job!\")"
      ],
      "metadata": {
        "id": "beqt1ZsCLTuW"
      },
      "execution_count": null,
      "outputs": []
    },
    {
      "cell_type": "code",
      "source": [
        "re.search(\"g[\\w]+[\\s]+[\\w]+\", \"gooooodjob!\")"
      ],
      "metadata": {
        "id": "dUqj80dnLVFQ"
      },
      "execution_count": null,
      "outputs": []
    },
    {
      "cell_type": "code",
      "source": [
        "re.search(\"g[\\w]+[\\s]?[\\w]+\", \"gooooodjob!\")"
      ],
      "metadata": {
        "id": "_tU3VpyGLhOP"
      },
      "execution_count": null,
      "outputs": []
    },
    {
      "cell_type": "code",
      "source": [
        "re.search(\"g[\\w]+[\\s]?[\\w]+[\\S]+\", \"gooooodjob!\")"
      ],
      "metadata": {
        "id": "VKhfw0sxLm6r"
      },
      "execution_count": null,
      "outputs": []
    },
    {
      "cell_type": "code",
      "source": [
        "re.search(\"g[\\w]+[\\s]?[\\w]+[\\S]+\", \"gooooodjob!!!!!~~~\")"
      ],
      "metadata": {
        "id": "TLrlETI6LsMD"
      },
      "execution_count": null,
      "outputs": []
    },
    {
      "cell_type": "code",
      "source": [
        "re.search(\"g[o]{2}d\", \"good\")"
      ],
      "metadata": {
        "id": "Vfcr6OfiNZhj"
      },
      "execution_count": null,
      "outputs": []
    },
    {
      "cell_type": "code",
      "source": [
        "re.search(\"g[o]{2,5}d\", \"goooooooooooood\")"
      ],
      "metadata": {
        "id": "stej5OtLNh03"
      },
      "execution_count": null,
      "outputs": []
    },
    {
      "cell_type": "code",
      "source": [
        "re.search(\"g[o]{2,5}d\", \"goood\")"
      ],
      "metadata": {
        "id": "DDf5f8_PNra0"
      },
      "execution_count": null,
      "outputs": []
    },
    {
      "cell_type": "code",
      "source": [
        "re.search(\"g[o]{2,5}\", \"gooooooooooooo\")"
      ],
      "metadata": {
        "id": "pKJRf5vgNwJt"
      },
      "execution_count": null,
      "outputs": []
    },
    {
      "cell_type": "code",
      "source": [
        "re.search(\"g[o]{2,5}?\", \"gooooooooooooo\")"
      ],
      "metadata": {
        "id": "6hY_ChzpOZmD"
      },
      "execution_count": null,
      "outputs": []
    },
    {
      "cell_type": "markdown",
      "source": [
        "# 2.4 Use (), groups() and findall() in Regex"
      ],
      "metadata": {
        "id": "D-tKlbDcPR5L"
      }
    },
    {
      "cell_type": "code",
      "source": [
        "re.search(\"[.]*g[\\w]+d[.]*\", \"Well, good morning Andy\")"
      ],
      "metadata": {
        "id": "bMUn5TK_PWf2"
      },
      "execution_count": null,
      "outputs": []
    },
    {
      "cell_type": "code",
      "source": [
        "re.search(\"[.]*g[\\w][.]*\", \"Well, good morning Andy\").groups()"
      ],
      "metadata": {
        "id": "J_XT6etORf5C"
      },
      "execution_count": null,
      "outputs": []
    },
    {
      "cell_type": "code",
      "source": [
        "re.search(\"[.]*(g[\\w]+d)[.]*\", \"Well, good morning Andy\").groups()"
      ],
      "metadata": {
        "id": "6BMNF8_bPdnm"
      },
      "execution_count": null,
      "outputs": []
    },
    {
      "cell_type": "code",
      "source": [
        "re.search(\"[.]*(g[\\w]+d)[.]*\", \"Well, good morning Andy\").groups()"
      ],
      "metadata": {
        "id": "JRRZM9S6RpyO"
      },
      "execution_count": null,
      "outputs": []
    },
    {
      "cell_type": "code",
      "source": [
        "re.search(\"[.]*(g[\\w]+d)[.]*\", \"Well, gooood morning Andy\").groups()"
      ],
      "metadata": {
        "id": "H9yQA88BRsU-"
      },
      "execution_count": null,
      "outputs": []
    },
    {
      "cell_type": "code",
      "source": [
        "re.search(\"[.]*(g[\\w]+d)[.]*\", \"Well, gooood morning Andy, gooooood morning Jimmy!\").groups()"
      ],
      "metadata": {
        "id": "Hbb1sb1NSDao"
      },
      "execution_count": null,
      "outputs": []
    },
    {
      "cell_type": "code",
      "source": [
        "re.findall(\"[.]*(g[\\w]+d)[.]*\", \"Well, gooood morning Andy, gooooooood morning Jimmy!\")"
      ],
      "metadata": {
        "id": "0HmKEeJ-TF6e"
      },
      "execution_count": null,
      "outputs": []
    },
    {
      "cell_type": "markdown",
      "source": [
        "# 2.5 Re for TW Phone Number Test"
      ],
      "metadata": {
        "id": "hTsoqjhiLyIG"
      }
    },
    {
      "cell_type": "code",
      "source": [
        "import re\n",
        "def re_verify_phone_number(number):\n",
        "    # your codes here\n",
        "    return \"Invalid\""
      ],
      "metadata": {
        "id": "vwNFWTjtLxRJ"
      },
      "execution_count": null,
      "outputs": []
    },
    {
      "cell_type": "markdown",
      "source": [
        "Test Cases"
      ],
      "metadata": {
        "id": "KMEmBQHCL8y2"
      }
    },
    {
      "cell_type": "code",
      "source": [
        "assert re_verify_phone_number(\"0911-222-333\") == \"Valid\"\n",
        "assert re_verify_phone_number(\"0911-222-3334\") == \"Invalid\"\n",
        "assert re_verify_phone_number(\"0911222333\") == \"Invalid\"\n",
        "assert re_verify_phone_number(\"0111222333\") == \"Invalid\""
      ],
      "metadata": {
        "id": "uHbRjB7fL75o"
      },
      "execution_count": null,
      "outputs": []
    },
    {
      "cell_type": "markdown",
      "source": [
        "# 2.6 Get the Domain Names from E-mails\n",
        "Suppose we collect a list of e-mail addresses, and we'd like to know what are the possible domain names indside the collection. Re can help!"
      ],
      "metadata": {
        "id": "vW93GNaVTh-O"
      }
    },
    {
      "cell_type": "markdown",
      "source": [
        "* Example 1.\n",
        "```\n",
        "Input: jimmy@msn.com\n",
        "Output: \"msn\"\n",
        "```\n",
        "\n",
        "* Example 2.\n",
        "```\n",
        "Input: cmchen@yahoo.com.tw\n",
        "Output: \"yahoo\"\n",
        "```\n",
        "\n",
        "* Example 3.\n",
        "```\n",
        "Input: andy@askmiso.com\n",
        "Output: \"askmiso\"\n",
        "```"
      ],
      "metadata": {
        "id": "X37J0fxpUaTT"
      }
    },
    {
      "cell_type": "code",
      "source": [
        "import re\n",
        "def get_domain(e_address):\n",
        "    # your codes here\n",
        "    return \"\""
      ],
      "metadata": {
        "id": "Ko38bvXpNKuW"
      },
      "execution_count": null,
      "outputs": []
    },
    {
      "cell_type": "markdown",
      "source": [
        "Test Cases"
      ],
      "metadata": {
        "id": "-XYq-HPIVPHz"
      }
    },
    {
      "cell_type": "code",
      "source": [
        "assert get_domain(\"jimmy@msn.com\") == \"msn\"\n",
        "assert get_domain(\"cmchen@yahoo.com.tw\") == \"yahoo\"\n",
        "assert get_domain(\"andy@askmiso.com\") == \"askmiso\""
      ],
      "metadata": {
        "id": "rRHynS08VOSe"
      },
      "execution_count": null,
      "outputs": []
    },
    {
      "cell_type": "markdown",
      "source": [
        "# **Homework Assignment**\n"
      ],
      "metadata": {
        "id": "oN23gVMD52ru"
      }
    },
    {
      "cell_type": "markdown",
      "source": [
        "**Description:**\n",
        "\n",
        "There are 10 problems in this assignment. You will get full credit if you solve the first **7** problems in an elegant way. You can earn bonus points if you also solve the remaining problems. For each problem, you are required to:\n",
        "\n",
        "- Design a Python function that fulfills the given requirements.\n",
        "- Provide a series of test cases that demonstrate your function works correctly.\n",
        "\n",
        "---\n",
        "\n",
        "**Instructions:**\n",
        "\n",
        "- Implement each function in Python.\n",
        "- Use the `re` module for regular expressions.\n",
        "- For each function, provide at least **three test cases** that cover different scenarios, including edge cases.\n",
        "- Ensure your code is well-documented and readable.\n",
        "- Submit your code and test cases in a single Python file (`.py`).\n",
        "\n",
        "**Grading:**\n",
        "\n",
        "- **Correctness** of the functions.\n",
        "- **Quality and coverage** of test cases.\n",
        "- **Code readability** and documentation.\n",
        "- **Bonus points** for solving problems 8–10.\n",
        "\n",
        "---\n",
        "\n",
        "Good luck, and happy coding!"
      ],
      "metadata": {
        "id": "PEnRtSWU7J_T"
      }
    },
    {
      "cell_type": "markdown",
      "source": [
        "### **Problems:**\n",
        "\n",
        "---\n",
        "\n",
        "#### **1. Basic Pattern Matching**\n",
        "\n",
        "**Problem Description:**\n",
        "\n",
        "Write a Python function that checks if a given string contains the substring `\"python\"` (case-insensitive). The function should return `True` if it does, and `False` otherwise.\n",
        "\n",
        "---\n",
        "\n",
        "#### **2. Valid Email Address**\n",
        "\n",
        "**Problem Description:**\n",
        "\n",
        "Create a function that validates if a given string is a valid email address. For simplicity, assume a valid email address follows this pattern:\n",
        "\n",
        "- Starts with one or more letters or numbers.\n",
        "- Contains an `'@'` symbol.\n",
        "- Followed by one or more letters or numbers.\n",
        "- Contains a dot `'.'`.\n",
        "- Ends with a domain of two to three letters.\n",
        "\n",
        "---\n",
        "\n",
        "#### **3. Extracting Dates**\n",
        "\n",
        "**Problem Description:**\n",
        "\n",
        "Write a function that extracts all dates from a given string. The dates are in the format `\"DD/MM/YYYY\"`.\n",
        "\n",
        "---\n",
        "\n",
        "#### **4. Password Validation**\n",
        "\n",
        "**Problem Description:**\n",
        "\n",
        "Develop a function to validate a password string. The password must meet the following criteria:\n",
        "\n",
        "- At least 8 characters long.\n",
        "- Contains at least one uppercase letter.\n",
        "- Contains at least one lowercase letter.\n",
        "- Contains at least one digit.\n",
        "- Contains at least one special character (e.g., `!`, `@`, `#`, etc.).\n",
        "\n",
        "---\n",
        "\n",
        "#### **5. Finding Hashtags**\n",
        "\n",
        "**Problem Description:**\n",
        "\n",
        "Create a function that extracts all hashtags from a given text. A hashtag starts with `'#'` and is followed by one or more word characters (letters, digits, or underscores).\n",
        "\n",
        "---\n",
        "\n",
        "#### **6. Splitting a String**\n",
        "\n",
        "**Problem Description:**\n",
        "\n",
        "Write a function that splits a string by commas, semicolons, or spaces, but ignores these separators if they are within quotes (single `'` or double `\"`).\n",
        "\n",
        "---\n",
        "\n",
        "#### **7. IP Address Validation**\n",
        "\n",
        "**Problem Description:**\n",
        "\n",
        "Create a function to validate IPv4 addresses. An IPv4 address consists of four numbers separated by dots, each number ranging from 0 to 255.\n",
        "\n",
        "---\n",
        "\n",
        "#### **8. Advanced Lookahead and Lookbehind** *(Bonus Problem)*\n",
        "\n",
        "**Problem Description:**\n",
        "\n",
        "Write a function that finds all occurrences of the word `\"apple\"` that are **not** preceded by the word `\"green\"` and **not** followed by the word `\"pie\"`.\n",
        "\n",
        "---\n",
        "\n",
        "#### **9. Named Groups and Substitution** *(Bonus Problem)*\n",
        "\n",
        "**Problem Description:**\n",
        "\n",
        "Given a string containing dates in the format `\"YYYY-MM-DD\"`, write a function that converts them to `\"DD/MM/YYYY\"`.\n",
        "\n",
        "---\n",
        "\n",
        "#### **10. Recursive Patterns (Advanced)** *(Bonus Problem)*\n",
        "\n",
        "**Problem Description:**\n",
        "\n",
        "Write a function to validate if a string is a valid nested parentheses expression. The string may contain multiple types of brackets: `()`, `{}`, `[]`. Each opening bracket must have a corresponding closing bracket in the correct order.\n",
        "\n",
        "---\n"
      ],
      "metadata": {
        "id": "mKxz4icJ2wqZ"
      }
    }
  ]
}
