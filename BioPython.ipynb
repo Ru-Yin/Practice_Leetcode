{
  "nbformat": 4,
  "nbformat_minor": 0,
  "metadata": {
    "colab": {
      "provenance": [],
      "include_colab_link": true
    },
    "kernelspec": {
      "name": "python3",
      "display_name": "Python 3"
    },
    "language_info": {
      "name": "python"
    }
  },
  "cells": [
    {
      "cell_type": "markdown",
      "metadata": {
        "id": "view-in-github",
        "colab_type": "text"
      },
      "source": [
        "<a href=\"https://colab.research.google.com/github/Ru-Yin/Practice_Leetcode/blob/main/BioPython.ipynb\" target=\"_parent\"><img src=\"https://colab.research.google.com/assets/colab-badge.svg\" alt=\"Open In Colab\"/></a>"
      ]
    },
    {
      "cell_type": "markdown",
      "source": [
        "## Function Summary"
      ],
      "metadata": {
        "id": "nw6IN9ctzzN2"
      }
    },
    {
      "cell_type": "markdown",
      "source": [
        "### Sequence Operations\n",
        "- **Bio.Seq**\n",
        "  - `Seq`: for handling biological sequences\n",
        "  - `reverse_complement()`: get the reverse complement of a sequence\n",
        "  - `translate()`: translate a nucleotide sequence to a protein sequence"
      ],
      "metadata": {
        "id": "zabY3XyB0UBI"
      }
    },
    {
      "cell_type": "code",
      "source": [],
      "metadata": {
        "id": "LBXHI1OOzyrN"
      },
      "execution_count": null,
      "outputs": []
    },
    {
      "cell_type": "markdown",
      "source": [
        "### File Input/Output\n",
        "- **Bio.SeqIO**\n",
        "  - `parse()`: parse sequences from a file\n",
        "  - `read()`: read a single sequence from a file\n",
        "  - `write()`: write sequences to a file\n",
        "\n",
        "- **Bio.AlignIO**\n",
        "  - `read()`: read alignments from a file\n",
        "  - `write()`: write alignments to a file"
      ],
      "metadata": {
        "id": "tB4dewai0BPf"
      }
    },
    {
      "cell_type": "code",
      "source": [],
      "metadata": {
        "id": "stGEAQNH0DJX"
      },
      "execution_count": null,
      "outputs": []
    },
    {
      "cell_type": "markdown",
      "source": [
        "### Sequence Alignment\n",
        "- **Bio.pairwise2**\n",
        "  - `align.globalxx()`: perform global alignment\n",
        "  - `align.localxx()`: perform local alignment"
      ],
      "metadata": {
        "id": "HMOgoCxq0DaY"
      }
    },
    {
      "cell_type": "code",
      "source": [],
      "metadata": {
        "id": "4MIbx5090K3p"
      },
      "execution_count": null,
      "outputs": []
    },
    {
      "cell_type": "markdown",
      "source": [
        "### Database Access\n",
        "- **Bio.Entrez**\n",
        "  - `esearch()`: search for entries in Entrez databases\n",
        "  - `efetch()`: fetch entries from Entrez databases"
      ],
      "metadata": {
        "id": "qFrjg_5p0LKH"
      }
    },
    {
      "cell_type": "code",
      "source": [],
      "metadata": {
        "id": "Dtsd5XqQ0NKZ"
      },
      "execution_count": null,
      "outputs": []
    },
    {
      "cell_type": "markdown",
      "source": [
        "### Phylogenetic Analysis\n",
        "- **Bio.Phylo**\n",
        "  - `read()`: read a phylogenetic tree\n",
        "  - `draw()`: visualize the phylogenetic tree"
      ],
      "metadata": {
        "id": "nErbMql80M29"
      }
    },
    {
      "cell_type": "code",
      "source": [],
      "metadata": {
        "id": "uhQ21d8_0OVR"
      },
      "execution_count": null,
      "outputs": []
    },
    {
      "cell_type": "markdown",
      "source": [
        "## Homework\n",
        "\n",
        "Here’s a homework set based on the **Cluster Analysis** chapter of the Biopython tutorial, totaling 100 points."
      ],
      "metadata": {
        "id": "aAYjXppvwuR3"
      }
    },
    {
      "cell_type": "markdown",
      "source": [
        "1. **Data Representation (10 points)**\n",
        "   - Explain how `Bio.Cluster` represents data for clustering.\n",
        "   - Task: Create a sample data array and define a mask to handle missing values. Demonstrate how `Bio.Cluster` would use these."
      ],
      "metadata": {
        "id": "54TaLE0U0XyD"
      }
    },
    {
      "cell_type": "code",
      "execution_count": null,
      "metadata": {
        "id": "9VpYIVoAv7Ma"
      },
      "outputs": [],
      "source": []
    },
    {
      "cell_type": "markdown",
      "source": [
        "2. **Distance Functions (20 points)**\n",
        "   - Explain two distance metrics (e.g., Euclidean and City-block) and two distance functions based on correlations (e.g., Pearson and Spearman).\n",
        "   - Task: Write a Python function using `Bio.Cluster` to calculate these distances between two given gene expression profiles. Include sample data for demonstration."
      ],
      "metadata": {
        "id": "5QZor2FJw0XM"
      }
    },
    {
      "cell_type": "code",
      "source": [],
      "metadata": {
        "id": "EKycYgzlw4MU"
      },
      "execution_count": null,
      "outputs": []
    },
    {
      "cell_type": "markdown",
      "source": [
        "3. **Distance Matrix (10 points)**\n",
        "   - Describe the process of creating a distance matrix using `Bio.Cluster`.\n",
        "   - Task: Generate a distance matrix for a small dataset of at least five rows."
      ],
      "metadata": {
        "id": "IyMYzJLjw4xM"
      }
    },
    {
      "cell_type": "code",
      "source": [],
      "metadata": {
        "id": "K5UIOQ4Aw6zp"
      },
      "execution_count": null,
      "outputs": []
    },
    {
      "cell_type": "markdown",
      "source": [
        "4. **K-means and K-medoids Clustering (20 points)**\n",
        "   - Explain the differences between \\( k \\)-means and \\( k \\)-medoids clustering.\n",
        "   - Task: Apply \\( k \\)-means and \\( k \\)-medoids clustering to a dataset using `Bio.Cluster` and interpret the resulting clusters."
      ],
      "metadata": {
        "id": "Hz1pobWaw8tJ"
      }
    },
    {
      "cell_type": "markdown",
      "source": [],
      "metadata": {
        "id": "Q0lE9nBfw7Ui"
      }
    },
    {
      "cell_type": "markdown",
      "source": [
        "5. **Hierarchical Clustering (15 points)**\n",
        "   - Describe how hierarchical clustering is implemented in `Bio.Cluster`.\n",
        "   - Task: Use hierarchical clustering with a dataset to create a dendrogram. Discuss the linkage method used and interpret the clusters formed."
      ],
      "metadata": {
        "id": "QUojgamZw-ji"
      }
    },
    {
      "cell_type": "code",
      "source": [],
      "metadata": {
        "id": "PThy__A_w_n1"
      },
      "execution_count": null,
      "outputs": []
    },
    {
      "cell_type": "markdown",
      "source": [
        "6. **Self-Organizing Maps (10 points)**\n",
        "   - Explain Self-Organizing Maps (SOMs) and their application.\n",
        "   - Task: Use `Bio.Cluster` to perform SOM on a dataset and interpret the clustering result."
      ],
      "metadata": {
        "id": "uEoeKOo6w_67"
      }
    },
    {
      "cell_type": "code",
      "source": [],
      "metadata": {
        "id": "gXPxLh1lxA9h"
      },
      "execution_count": null,
      "outputs": []
    },
    {
      "cell_type": "markdown",
      "source": [
        "7. **Principal Component Analysis (PCA) (15 points)**\n",
        "   - Describe the role of PCA in cluster analysis.\n",
        "   - Task: Apply PCA to reduce the dimensions of a dataset. Visualize and interpret the first two principal components."
      ],
      "metadata": {
        "id": "OjC7EKmHxBRQ"
      }
    },
    {
      "cell_type": "code",
      "source": [],
      "metadata": {
        "id": "LTRVYCcKxBnY"
      },
      "execution_count": null,
      "outputs": []
    }
  ]
}