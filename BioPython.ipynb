{
  "nbformat": 4,
  "nbformat_minor": 0,
  "metadata": {
    "colab": {
      "provenance": [],
      "include_colab_link": true
    },
    "kernelspec": {
      "name": "python3",
      "display_name": "Python 3"
    },
    "language_info": {
      "name": "python"
    }
  },
  "cells": [
    {
      "cell_type": "markdown",
      "metadata": {
        "id": "view-in-github",
        "colab_type": "text"
      },
      "source": [
        "<a href=\"https://colab.research.google.com/github/Ru-Yin/Practice_Leetcode/blob/main/BioPython.ipynb\" target=\"_parent\"><img src=\"https://colab.research.google.com/assets/colab-badge.svg\" alt=\"Open In Colab\"/></a>"
      ]
    },
    {
      "cell_type": "markdown",
      "source": [
        "## Function Summary"
      ],
      "metadata": {
        "id": "nw6IN9ctzzN2"
      }
    },
    {
      "cell_type": "markdown",
      "source": [
        "### Sequence Operations\n",
        "- **Bio.Seq**\n",
        "  - `Seq`: for handling biological sequences\n",
        "  - `reverse_complement()`: get the reverse complement of a sequence\n",
        "  - `translate()`: translate a nucleotide sequence to a protein sequence"
      ],
      "metadata": {
        "id": "zabY3XyB0UBI"
      }
    },
    {
      "cell_type": "code",
      "source": [
        "# prompt: install Biopython code\n",
        "\n",
        "!pip install biopython"
      ],
      "metadata": {
        "id": "SFnCMWsfozbU",
        "outputId": "14d60535-2a94-4ddc-95f5-2e6afa3e0171",
        "colab": {
          "base_uri": "https://localhost:8080/"
        }
      },
      "execution_count": 3,
      "outputs": [
        {
          "output_type": "stream",
          "name": "stdout",
          "text": [
            "Collecting biopython\n",
            "  Downloading biopython-1.84-cp310-cp310-manylinux_2_17_x86_64.manylinux2014_x86_64.whl.metadata (12 kB)\n",
            "Requirement already satisfied: numpy in /usr/local/lib/python3.10/dist-packages (from biopython) (1.26.4)\n",
            "Downloading biopython-1.84-cp310-cp310-manylinux_2_17_x86_64.manylinux2014_x86_64.whl (3.2 MB)\n",
            "\u001b[?25l   \u001b[90m━━━━━━━━━━━━━━━━━━━━━━━━━━━━━━━━━━━━━━━━\u001b[0m \u001b[32m0.0/3.2 MB\u001b[0m \u001b[31m?\u001b[0m eta \u001b[36m-:--:--\u001b[0m\r\u001b[2K   \u001b[91m━━━━━━━━━━━━━━━━━━━━━━━━━━━━━━━━━━━━━━\u001b[0m\u001b[91m╸\u001b[0m\u001b[90m━\u001b[0m \u001b[32m3.1/3.2 MB\u001b[0m \u001b[31m92.8 MB/s\u001b[0m eta \u001b[36m0:00:01\u001b[0m\r\u001b[2K   \u001b[90m━━━━━━━━━━━━━━━━━━━━━━━━━━━━━━━━━━━━━━━━\u001b[0m \u001b[32m3.2/3.2 MB\u001b[0m \u001b[31m51.5 MB/s\u001b[0m eta \u001b[36m0:00:00\u001b[0m\n",
            "\u001b[?25hInstalling collected packages: biopython\n",
            "Successfully installed biopython-1.84\n"
          ]
        }
      ]
    },
    {
      "cell_type": "code",
      "source": [
        "# prompt: create some data examples for the Bio.Seq lib\n",
        "\n",
        "from Bio.Seq import Seq\n",
        "\n",
        "# Example 1: DNA sequence\n",
        "dna_seq = Seq(\"ATGGCCATTGTAATGGGCCGCTGAAAGGGTGCCCGATAG\")\n",
        "print(\"DNA sequence:\", dna_seq)\n",
        "\n",
        "# Example 2: Reverse complement of DNA sequence\n",
        "reverse_complement_seq = dna_seq.reverse_complement()\n",
        "print(\"Reverse complement:\", reverse_complement_seq)\n",
        "\n",
        "# Example 3: Translate DNA sequence to protein sequence\n",
        "protein_seq = dna_seq.translate()\n",
        "print(\"Protein sequence:\", protein_seq)\n",
        "\n",
        "# Example 4: RNA sequence\n",
        "rna_seq = Seq(\"AUGGCCAUUGUAAUGGGCCGCUGAAAGGGUGCCCGAUAG\")\n",
        "print(\"RNA sequence:\", rna_seq)\n",
        "\n",
        "# Example 5: Reverse complement of RNA sequence\n",
        "reverse_complement_rna = rna_seq.reverse_complement()\n",
        "print(\"Reverse complement RNA:\", reverse_complement_rna)"
      ],
      "metadata": {
        "id": "LBXHI1OOzyrN",
        "colab": {
          "base_uri": "https://localhost:8080/"
        },
        "outputId": "22b28588-a370-44d5-cf9d-caaa8d7d5cfb"
      },
      "execution_count": 4,
      "outputs": [
        {
          "output_type": "stream",
          "name": "stdout",
          "text": [
            "DNA sequence: ATGGCCATTGTAATGGGCCGCTGAAAGGGTGCCCGATAG\n",
            "Reverse complement: CTATCGGGCACCCTTTCAGCGGCCCATTACAATGGCCAT\n",
            "Protein sequence: MAIVMGR*KGAR*\n",
            "RNA sequence: AUGGCCAUUGUAAUGGGCCGCUGAAAGGGUGCCCGAUAG\n",
            "Reverse complement RNA: CTATCGGGCACCCTTTCAGCGGCCCATTACAATGGCCAT\n"
          ]
        }
      ]
    },
    {
      "cell_type": "markdown",
      "source": [
        "### File Input/Output\n",
        "- **Bio.SeqIO**\n",
        "  - `parse()`: parse sequences from a file\n",
        "  - `read()`: read a single sequence from a file\n",
        "  - `write()`: write sequences to a file\n",
        "\n",
        "- **Bio.AlignIO**\n",
        "  - `read()`: read alignments from a file\n",
        "  - `write()`: write alignments to a file"
      ],
      "metadata": {
        "id": "tB4dewai0BPf"
      }
    },
    {
      "cell_type": "code",
      "source": [
        "# prompt: create some data examples for the Bio.SeqIO lib (parse( ), read( ), write( ))\n",
        "\n",
        "from Bio import SeqIO\n",
        "from Bio.SeqRecord import SeqRecord\n",
        "from Bio.Seq import Seq\n",
        "\n",
        "# Create a sample FASTA file with two sequences\n",
        "with open(\"sequences.fasta\", \"w\") as f:\n",
        "  f.write(\">seq1\\nATGGCCATTGTAATGGGCCGCTGAAAGGGTGCCCGATAG\\n\")\n",
        "  f.write(\">seq2\\nCGTAATGCGTAGCATGCGTAGCTAGCTAGCTAG\\n\")\n",
        "\n",
        "# Example 1: Parse sequences from a FASTA file\n",
        "for record in SeqIO.parse(\"sequences.fasta\", \"fasta\"):\n",
        "  print(record.id)\n",
        "  print(record.seq)\n",
        "\n",
        "# Example 2: Read a single sequence from a FASTA file\n",
        "record = SeqIO.read(\"sequences.fasta\", \"fasta\")\n",
        "print(record.id)\n",
        "print(record.seq)\n",
        "\n",
        "# Example 3: Create a SeqRecord and write it to a file\n",
        "new_record = SeqRecord(\n",
        "    Seq(\"ATGCGTAGCTAGCATGCGTAGCTAGCATGC\"),\n",
        "    id=\"seq3\",\n",
        "    name=\"seq3\",\n",
        "    description=\"A new sequence\",\n",
        ")\n",
        "with open(\"new_sequence.fasta\", \"w\") as f:\n",
        "  SeqIO.write(new_record, f, \"fasta\")"
      ],
      "metadata": {
        "id": "stGEAQNH0DJX"
      },
      "execution_count": null,
      "outputs": []
    },
    {
      "cell_type": "code",
      "source": [
        "# prompt: create some data examples for the Bio.AlignIO lib\n",
        "\n",
        "from Bio import AlignIO\n",
        "from Bio.Align import MultipleSeqAlignment\n",
        "from Bio.SeqRecord import SeqRecord\n",
        "from Bio.Seq import Seq\n",
        "\n",
        "\n",
        "# Example 1: Creating a simple alignment from strings\n",
        "\n",
        "alignment_strings = [\n",
        "    \"ATGCGT\",\n",
        "    \"ATGCCT\",\n",
        "    \"ATGGCT\"\n",
        "]\n",
        "\n",
        "alignment = MultipleSeqAlignment([\n",
        "    SeqRecord(Seq(seq), id=f\"seq_{i+1}\") for i, seq in enumerate(alignment_strings)\n",
        "])\n",
        "\n",
        "#print(alignment)\n",
        "# Example 2: Writing to a FASTA format file\n",
        "\n",
        "AlignIO.write(alignment, \"example_alignment.fasta\", \"fasta\")\n",
        "\n",
        "# Example 3: Reading from a FASTA format file\n",
        "\n",
        "\n",
        "alignment = AlignIO.read(\"example_alignment.fasta\", \"fasta\")\n",
        "print(alignment)\n",
        "\n",
        "# Example 4: Creating an alignment from SeqRecord objects\n",
        "\n",
        "records = [\n",
        "    SeqRecord(Seq(\"ATGCGT\"), id=\"seq1\"),\n",
        "    SeqRecord(Seq(\"ATGCCT\"), id=\"seq2\"),\n",
        "    SeqRecord(Seq(\"ATGGCT\"), id=\"seq3\"),\n",
        "]\n",
        "alignment = MultipleSeqAlignment(records)\n",
        "\n",
        "#print(alignment)\n",
        "\n",
        "# Example 5: Writing alignment to a Clustal format file\n",
        "AlignIO.write(alignment, \"example_alignment.clustal\", \"clustal\")\n",
        "\n",
        "# Example 6: Reading an alignment from a Clustal format file\n",
        "\n",
        "alignment = AlignIO.read(\"example_alignment.clustal\", \"clustal\")\n",
        "alignment"
      ],
      "metadata": {
        "id": "riQIwZwfq7D9"
      },
      "execution_count": null,
      "outputs": []
    },
    {
      "cell_type": "markdown",
      "source": [
        "### Sequence Alignment\n",
        "- **Bio.pairwise2**\n",
        "  - `align.globalxx()`: perform global alignment\n",
        "  - `align.localxx()`: perform local alignment"
      ],
      "metadata": {
        "id": "HMOgoCxq0DaY"
      }
    },
    {
      "cell_type": "code",
      "source": [
        "# prompt: example usage of Bio.pairwise2\n",
        "# align.globalxx(): perform global alignment\n",
        "# align.localxx(): perform local alignment\n",
        "\n",
        "from Bio.pairwise2 import align\n",
        "from Bio.Seq import Seq\n",
        "\n",
        "# Define two sequences to align\n",
        "seq1 = Seq(\"ATGCGT\")\n",
        "seq2 = Seq(\"ATGCCT\")\n",
        "\n",
        "# Perform global alignment using the globalxx function\n",
        "alignments = align.globalxx(seq1, seq2)\n",
        "\n",
        "# Print the alignment results\n",
        "for alignment in alignments:\n",
        "  print(alignment)\n",
        "  print(\"Score:\", alignment.score)\n",
        "  print(\"Alignment:\")\n",
        "  print(alignment.seqA)\n",
        "  print(alignment.seqB)\n",
        "  print(\"---\")\n",
        "\n",
        "# Perform local alignment using the localxx function\n",
        "alignments = align.localxx(seq1, seq2)\n",
        "\n",
        "# Print the alignment results\n",
        "for alignment in alignments:\n",
        "  print(alignment)\n",
        "  print(\"Score:\", alignment.score)\n",
        "  print(\"Alignment:\")\n",
        "  print(alignment.seqA)\n",
        "  print(alignment.seqB)\n",
        "  print(\"---\")"
      ],
      "metadata": {
        "id": "4MIbx5090K3p"
      },
      "execution_count": null,
      "outputs": []
    },
    {
      "cell_type": "markdown",
      "source": [
        "### Database Access\n",
        "- **Bio.Entrez**\n",
        "  - `esearch()`: search for entries in Entrez databases\n",
        "  - `efetch()`: fetch entries from Entrez databases"
      ],
      "metadata": {
        "id": "qFrjg_5p0LKH"
      }
    },
    {
      "cell_type": "code",
      "source": [
        "# prompt: example usage of Bio.Entrez\n",
        "# esearch(): search for entries in Entrez databases (such as NCBI)\n",
        "# efetch(): fetch entries from Entrez databases\n",
        "\n",
        "from Bio import Entrez\n",
        "\n",
        "# Provide your email address to NCBI\n",
        "Entrez.email = \"your_email@example.com\"\n",
        "\n",
        "# Example 1: Search for articles related to \"COVID-19\" in PubMed\n",
        "handle = Entrez.esearch(db=\"pubmed\", term=\"COVID-19\", retmax=10)\n",
        "record = Entrez.read(handle)\n",
        "handle.close()\n",
        "\n",
        "# Get the list of PubMed IDs (PMIDs)\n",
        "id_list = record[\"IdList\"]\n",
        "print(\"PubMed IDs:\", id_list)\n",
        "\n",
        "# Example 2: Fetch the abstracts for the found articles\n",
        "handle = Entrez.efetch(db=\"pubmed\", id=id_list, rettype=\"abstract\", retmode=\"text\")\n",
        "abstract_text = handle.read()\n",
        "handle.close()\n",
        "print(\"Abstracts:\\n\", abstract_text)\n",
        "\n"
      ],
      "metadata": {
        "id": "Dtsd5XqQ0NKZ"
      },
      "execution_count": null,
      "outputs": []
    },
    {
      "cell_type": "markdown",
      "source": [
        "### Phylogenetic Analysis\n",
        "- **Bio.Phylo**\n",
        "  - `read()`: read a phylogenetic tree\n",
        "  - `draw()`: visualize the phylogenetic tree"
      ],
      "metadata": {
        "id": "nErbMql80M29"
      }
    },
    {
      "cell_type": "code",
      "source": [
        "# prompt: example usage of Bio.Phylo\n",
        "# read(): read a phylogenetic tree\n",
        "# draw(): visualize the phylogenetic tree\n",
        "\n",
        "# 創建一個示例系統發生樹文件\n",
        "with open(\"example_tree.nwk\", \"w\") as f:\n",
        "    f.write(\"((A,B),(C,D));\")\n",
        "\n",
        "from Bio import Phylo\n",
        "import matplotlib.pyplot as plt\n",
        "\n",
        "# 1. 讀取樹文件\n",
        "tree = Phylo.read(\"example_tree.nwk\", \"newick\")\n",
        "\n",
        "# 2. 輸出樹的基本結構\n",
        "print(tree)\n",
        "\n",
        "# 3. 視覺化系統發生樹\n",
        "Phylo.draw(tree)\n",
        "plt.show()  # 可選，僅在腳本中需要\n"
      ],
      "metadata": {
        "id": "uhQ21d8_0OVR",
        "colab": {
          "base_uri": "https://localhost:8080/",
          "height": 592
        },
        "outputId": "17a94348-1ddd-405a-a5a8-4cd4b44acb5a"
      },
      "execution_count": 13,
      "outputs": [
        {
          "output_type": "stream",
          "name": "stdout",
          "text": [
            "Tree(rooted=False, weight=1.0)\n",
            "    Clade()\n",
            "        Clade()\n",
            "            Clade(name='A')\n",
            "            Clade(name='B')\n",
            "        Clade()\n",
            "            Clade(name='C')\n",
            "            Clade(name='D')\n"
          ]
        },
        {
          "output_type": "display_data",
          "data": {
            "text/plain": [
              "<Figure size 640x480 with 1 Axes>"
            ],
            "image/png": "[encoded data removed]"
          },
          "metadata": {}
        }
      ]
    },
    {
      "cell_type": "markdown",
      "source": [
        "## Homework\n",
        "\n",
        "Here’s a homework set based on the **Cluster Analysis** chapter of the Biopython tutorial, totaling 100 points."
      ],
      "metadata": {
        "id": "aAYjXppvwuR3"
      }
    },
    {
      "cell_type": "markdown",
      "source": [
        "1. **Data Representation (10 points)**\n",
        "   - Explain how `Bio.Cluster` represents data for clustering.\n",
        "   - Task: Create a sample data array and define a mask to handle missing values. Demonstrate how `Bio.Cluster` would use these."
      ],
      "metadata": {
        "id": "54TaLE0U0XyD"
      }
    },
    {
      "cell_type": "code",
      "execution_count": 10,
      "metadata": {
        "id": "9VpYIVoAv7Ma",
        "colab": {
          "base_uri": "https://localhost:8080/"
        },
        "outputId": "8a8e76de-18b5-4635-a1b6-6e33f85b638e"
      },
      "outputs": [
        {
          "output_type": "stream",
          "name": "stdout",
          "text": [
            "[[ 1.  2.  3.  4.]\n",
            " [ 5.  6.  7.  8.]\n",
            " [ 9. 10. nan 12.]\n",
            " [13. 14. 15. 16.]]\n",
            "Mask [[False False False False]\n",
            " [False False False False]\n",
            " [False False  True False]\n",
            " [False False False False]]\n",
            "[[ 1.          2.          3.          4.        ]\n",
            " [ 5.          6.          7.          8.        ]\n",
            " [ 9.         10.          8.33333333 12.        ]\n",
            " [13.         14.         15.         16.        ]]\n"
          ]
        }
      ],
      "source": [
        "# prompt: Data Representation (10 points)\n",
        "# Explain how Bio.Cluster represents data for clustering.\n",
        "# Task: Create a sample data array and define a mask to handle missing values.\n",
        "# Demonstrate how Bio.Cluster would use these.\n",
        "\n",
        "from Bio import Cluster\n",
        "import numpy as np\n",
        "\n",
        "# Sample data array (e.g., gene expression data)\n",
        "data = np.array([\n",
        "    [1.0, 2.0, 3.0, 4.0],\n",
        "    [5.0, 6.0, 7.0, 8.0],\n",
        "    [9.0, 10.0, np.nan, 12.0],  # Example of missing value\n",
        "    [13.0, 14.0, 15.0, 16.0]\n",
        "])\n",
        "print(data)\n",
        "\n",
        "# Mask for missing values (NaN)\n",
        "mask = np.isnan(data)\n",
        "print(\"Mask\", mask)\n",
        "\n",
        "# Replace missing values with a placeholder (e.g., mean of the column)\n",
        "for i in range(data.shape[1]):\n",
        "    col_mean = np.nanmean(data[:, i])\n",
        "    data[mask[:, i], i] = col_mean\n",
        "print(data)\n",
        "\n",
        "\n",
        "# How Bio.Cluster would use this:\n",
        "# 1. The `distancematrix` function can accept the data array and calculate a distance matrix.\n",
        "# 2. The mask (or handling of missing values) is important because distance calculations should\n",
        "#    not be affected by missing data.\n",
        "# 3. The `kcluster` or `hcluster` functions can be used for clustering using the pre-calculated\n",
        "#    distance matrix or using the data itself.\n",
        "\n",
        "# Example using k-means clustering (ignoring missing value handling for simplicity)\n",
        "# distanceMatrix = Cluster.distancematrix(data)\n",
        "# clusters = Cluster.kcluster(data, nclusters=2)\n",
        "# print(clusters)\n",
        "\n",
        "# Note:\n",
        "# This illustrates a basic representation and how missing values should be handled.\n",
        "# Bio.Cluster's functionality might vary slightly depending on specific distance metrics and\n",
        "# clustering algorithms used."
      ]
    },
    {
      "cell_type": "markdown",
      "source": [
        "2. **Distance Functions (20 points)**\n",
        "   - Explain two distance metrics (e.g., Euclidean and City-block) and two distance functions based on correlations (e.g., Pearson and Spearman).\n",
        "   - Task: Write a Python function using `Bio.Cluster` to calculate these distances between two given gene expression profiles. Include sample data for demonstration."
      ],
      "metadata": {
        "id": "5QZor2FJw0XM"
      }
    },
    {
      "cell_type": "code",
      "source": [],
      "metadata": {
        "id": "EKycYgzlw4MU"
      },
      "execution_count": null,
      "outputs": []
    },
    {
      "cell_type": "markdown",
      "source": [
        "3. **Distance Matrix (10 points)**\n",
        "   - Describe the process of creating a distance matrix using `Bio.Cluster`.\n",
        "   - Task: Generate a distance matrix for a small dataset of at least five rows."
      ],
      "metadata": {
        "id": "IyMYzJLjw4xM"
      }
    },
    {
      "cell_type": "code",
      "source": [],
      "metadata": {
        "id": "K5UIOQ4Aw6zp"
      },
      "execution_count": null,
      "outputs": []
    },
    {
      "cell_type": "markdown",
      "source": [
        "4. **K-means and K-medoids Clustering (20 points)**\n",
        "   - Explain the differences between \\( k \\)-means and \\( k \\)-medoids clustering.\n",
        "   - Task: Apply \\( k \\)-means and \\( k \\)-medoids clustering to a dataset using `Bio.Cluster` and interpret the resulting clusters."
      ],
      "metadata": {
        "id": "Hz1pobWaw8tJ"
      }
    },
    {
      "cell_type": "markdown",
      "source": [],
      "metadata": {
        "id": "Q0lE9nBfw7Ui"
      }
    },
    {
      "cell_type": "markdown",
      "source": [
        "5. **Hierarchical Clustering (15 points)**\n",
        "   - Describe how hierarchical clustering is implemented in `Bio.Cluster`.\n",
        "   - Task: Use hierarchical clustering with a dataset to create a dendrogram. Discuss the linkage method used and interpret the clusters formed."
      ],
      "metadata": {
        "id": "QUojgamZw-ji"
      }
    },
    {
      "cell_type": "code",
      "source": [],
      "metadata": {
        "id": "PThy__A_w_n1"
      },
      "execution_count": null,
      "outputs": []
    },
    {
      "cell_type": "markdown",
      "source": [
        "6. **Self-Organizing Maps (10 points)**\n",
        "   - Explain Self-Organizing Maps (SOMs) and their application.\n",
        "   - Task: Use `Bio.Cluster` to perform SOM on a dataset and interpret the clustering result."
      ],
      "metadata": {
        "id": "uEoeKOo6w_67"
      }
    },
    {
      "cell_type": "code",
      "source": [],
      "metadata": {
        "id": "gXPxLh1lxA9h"
      },
      "execution_count": null,
      "outputs": []
    },
    {
      "cell_type": "markdown",
      "source": [
        "7. **Principal Component Analysis (PCA) (15 points)**\n",
        "   - Describe the role of PCA in cluster analysis.\n",
        "   - Task: Apply PCA to reduce the dimensions of a dataset. Visualize and interpret the first two principal components."
      ],
      "metadata": {
        "id": "OjC7EKmHxBRQ"
      }
    },
    {
      "cell_type": "code",
      "source": [],
      "metadata": {
        "id": "LTRVYCcKxBnY"
      },
      "execution_count": null,
      "outputs": []
    }
  ]
}